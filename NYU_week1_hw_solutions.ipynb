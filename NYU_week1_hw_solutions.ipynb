{
  "nbformat": 4,
  "nbformat_minor": 0,
  "metadata": {
    "colab": {
      "name": "NYU_week1_hw_solutions.ipynb",
      "provenance": []
    },
    "kernelspec": {
      "name": "python3",
      "display_name": "Python 3"
    }
  },
  "cells": [
    {
      "cell_type": "markdown",
      "metadata": {
        "id": "9VBQydY_I8yg",
        "colab_type": "text"
      },
      "source": [
        "Assignment: Exploratory data analysis\n",
        "=====================================\n",
        "\n",
        "**TODO**: Edit this cell to fill in your NYU Net ID and your name:\n",
        "\n",
        "-   **Net ID**: fr2119\n",
        "-   **Name**: Farhan Rahman "
      ]
    },
    {
      "cell_type": "markdown",
      "metadata": {
        "id": "OK94uiWeI8yk",
        "colab_type": "text"
      },
      "source": [
        "Introduction\n",
        "------------\n",
        "\n",
        "In this assignment, we will practice using exploratory data analysis on\n",
        "Google’s COVID-19 Community Mobility data.\n",
        "\n",
        "This data was collected from Google Maps users around the world over the\n",
        "last few months - including you, *if* you have Google Maps on your phone\n",
        "and have turned on the Location History setting. It combines location\n",
        "history from a large number of users to capture the overall increase or\n",
        "decrease in time spent in places such as: retail and recreation\n",
        "facilities, groceries and pharmacies, parks, transit stations,\n",
        "workplaces, and residences.\n",
        "\n",
        "As you work through this notebook, you will see that some text and code\n",
        "cells are marked with a “TODO” at the top. You’ll have to edit these\n",
        "cells to fill in the code or answer the questions as indicated."
      ]
    },
    {
      "cell_type": "markdown",
      "metadata": {
        "id": "FGq8CPlHI8yl",
        "colab_type": "text"
      },
      "source": [
        "Learn about the data\n",
        "--------------------\n",
        "\n",
        "First, it is worthwhile to learn more about the data: how it is\n",
        "collected, what is included, how Google gets consent to collect this\n",
        "data, and how user privacy is protected. Google provides several\n",
        "resources for learning about the data:\n",
        "\n",
        "-   [Blog\n",
        "    post](https://www.blog.google/technology/health/covid-19-community-mobility-reports?hl=en)\n",
        "-   [About this\n",
        "    data](https://www.google.com/covid19/mobility/data_documentation.html?hl=en#about-this-data)\n",
        "-   [Understand the\n",
        "    data](https://support.google.com/covid19-mobility/answer/9825414?hl=en&ref_topic=9822927)"
      ]
    },
    {
      "cell_type": "markdown",
      "metadata": {
        "id": "3UPMtW0II8yn",
        "colab_type": "text"
      },
      "source": [
        "Read in data\n",
        "------------\n",
        "\n",
        "Now you are ready to read the data into your notebook.\n",
        "\n",
        "Visit Google’s web page for the [COVID-19 Community\n",
        "Mobility](https://www.google.com/covid19/mobility/) project to get the\n",
        "URL for the data.\n",
        "\n",
        "(Specific instructions will depend on your browser and operating system,\n",
        "but on my laptop, I can get the URL by right-clicking on the button that\n",
        "says “Download global CSV” and choosing “Copy Link Address”.)\n",
        "\n",
        "Then, in the following cells, use that URL to read the data into a\n",
        "pandas Data Frame called `df`. (You can follow the example in the\n",
        "“Exploratory data analysis” notebook from this week’s lesson.)"
      ]
    },
    {
      "cell_type": "code",
      "metadata": {
        "id": "85Rom1_jI8yo",
        "colab_type": "code",
        "colab": {}
      },
      "source": [
        "import pandas as pd\n",
        "import seaborn as sns\n",
        "import matplotlib.pyplot as plt"
      ],
      "execution_count": 67,
      "outputs": []
    },
    {
      "cell_type": "code",
      "metadata": {
        "id": "S2SlPhbpI8yv",
        "colab_type": "code",
        "colab": {
          "base_uri": "https://localhost:8080/",
          "height": 71
        },
        "outputId": "ad64496d-6d6a-4b6e-8dcd-8274304eb9a3"
      },
      "source": [
        "# TODO Q1\n",
        "url = \"https://www.gstatic.com/covid19/mobility/Global_Mobility_Report.csv?cachebust=31928890d4c9fde9\"\n",
        "df = pd.read_csv(url)\n"
      ],
      "execution_count": 68,
      "outputs": [
        {
          "output_type": "stream",
          "text": [
            "/usr/local/lib/python3.6/dist-packages/IPython/core/interactiveshell.py:2718: DtypeWarning: Columns (3) have mixed types.Specify dtype option on import or set low_memory=False.\n",
            "  interactivity=interactivity, compiler=compiler, result=result)\n"
          ],
          "name": "stderr"
        }
      ]
    },
    {
      "cell_type": "markdown",
      "metadata": {
        "id": "v4CNJvw-I8y2",
        "colab_type": "text"
      },
      "source": [
        "Use the `info()` and `head()` functions to show some basic information\n",
        "about the data and to look at the first few samples."
      ]
    },
    {
      "cell_type": "code",
      "metadata": {
        "id": "1sQEWQPNI8y3",
        "colab_type": "code",
        "colab": {
          "base_uri": "https://localhost:8080/",
          "height": 357
        },
        "outputId": "a2b469ee-c015-40b0-cf98-0f3114a58739"
      },
      "source": [
        "# TODO Q2\n",
        "# use info()\n",
        "df.info()"
      ],
      "execution_count": 69,
      "outputs": [
        {
          "output_type": "stream",
          "text": [
            "<class 'pandas.core.frame.DataFrame'>\n",
            "RangeIndex: 540126 entries, 0 to 540125\n",
            "Data columns (total 13 columns):\n",
            " #   Column                                              Non-Null Count   Dtype  \n",
            "---  ------                                              --------------   -----  \n",
            " 0   country_region_code                                 539194 non-null  object \n",
            " 1   country_region                                      540126 non-null  object \n",
            " 2   sub_region_1                                        524061 non-null  object \n",
            " 3   sub_region_2                                        312427 non-null  object \n",
            " 4   iso_3166_2_code                                     195608 non-null  object \n",
            " 5   census_fips_code                                    312546 non-null  float64\n",
            " 6   date                                                540126 non-null  object \n",
            " 7   retail_and_recreation_percent_change_from_baseline  416716 non-null  float64\n",
            " 8   grocery_and_pharmacy_percent_change_from_baseline   400447 non-null  float64\n",
            " 9   parks_percent_change_from_baseline                  248195 non-null  float64\n",
            " 10  transit_stations_percent_change_from_baseline       287509 non-null  float64\n",
            " 11  workplaces_percent_change_from_baseline             526546 non-null  float64\n",
            " 12  residential_percent_change_from_baseline            298340 non-null  float64\n",
            "dtypes: float64(7), object(6)\n",
            "memory usage: 53.6+ MB\n"
          ],
          "name": "stdout"
        }
      ]
    },
    {
      "cell_type": "code",
      "metadata": {
        "id": "SI-UFMtrI8y9",
        "colab_type": "code",
        "colab": {
          "base_uri": "https://localhost:8080/",
          "height": 309
        },
        "outputId": "9607602d-033e-4bcc-e54a-528399539417"
      },
      "source": [
        "# TODO Q3\n",
        "# use head()\n",
        "df.head()"
      ],
      "execution_count": 70,
      "outputs": [
        {
          "output_type": "execute_result",
          "data": {
            "text/html": [
              "<div>\n",
              "<style scoped>\n",
              "    .dataframe tbody tr th:only-of-type {\n",
              "        vertical-align: middle;\n",
              "    }\n",
              "\n",
              "    .dataframe tbody tr th {\n",
              "        vertical-align: top;\n",
              "    }\n",
              "\n",
              "    .dataframe thead th {\n",
              "        text-align: right;\n",
              "    }\n",
              "</style>\n",
              "<table border=\"1\" class=\"dataframe\">\n",
              "  <thead>\n",
              "    <tr style=\"text-align: right;\">\n",
              "      <th></th>\n",
              "      <th>country_region_code</th>\n",
              "      <th>country_region</th>\n",
              "      <th>sub_region_1</th>\n",
              "      <th>sub_region_2</th>\n",
              "      <th>iso_3166_2_code</th>\n",
              "      <th>census_fips_code</th>\n",
              "      <th>date</th>\n",
              "      <th>retail_and_recreation_percent_change_from_baseline</th>\n",
              "      <th>grocery_and_pharmacy_percent_change_from_baseline</th>\n",
              "      <th>parks_percent_change_from_baseline</th>\n",
              "      <th>transit_stations_percent_change_from_baseline</th>\n",
              "      <th>workplaces_percent_change_from_baseline</th>\n",
              "      <th>residential_percent_change_from_baseline</th>\n",
              "    </tr>\n",
              "  </thead>\n",
              "  <tbody>\n",
              "    <tr>\n",
              "      <th>0</th>\n",
              "      <td>AE</td>\n",
              "      <td>United Arab Emirates</td>\n",
              "      <td>NaN</td>\n",
              "      <td>NaN</td>\n",
              "      <td>NaN</td>\n",
              "      <td>NaN</td>\n",
              "      <td>2020-02-15</td>\n",
              "      <td>0.0</td>\n",
              "      <td>4.0</td>\n",
              "      <td>5.0</td>\n",
              "      <td>0.0</td>\n",
              "      <td>2.0</td>\n",
              "      <td>1.0</td>\n",
              "    </tr>\n",
              "    <tr>\n",
              "      <th>1</th>\n",
              "      <td>AE</td>\n",
              "      <td>United Arab Emirates</td>\n",
              "      <td>NaN</td>\n",
              "      <td>NaN</td>\n",
              "      <td>NaN</td>\n",
              "      <td>NaN</td>\n",
              "      <td>2020-02-16</td>\n",
              "      <td>1.0</td>\n",
              "      <td>4.0</td>\n",
              "      <td>4.0</td>\n",
              "      <td>1.0</td>\n",
              "      <td>2.0</td>\n",
              "      <td>1.0</td>\n",
              "    </tr>\n",
              "    <tr>\n",
              "      <th>2</th>\n",
              "      <td>AE</td>\n",
              "      <td>United Arab Emirates</td>\n",
              "      <td>NaN</td>\n",
              "      <td>NaN</td>\n",
              "      <td>NaN</td>\n",
              "      <td>NaN</td>\n",
              "      <td>2020-02-17</td>\n",
              "      <td>-1.0</td>\n",
              "      <td>1.0</td>\n",
              "      <td>5.0</td>\n",
              "      <td>1.0</td>\n",
              "      <td>2.0</td>\n",
              "      <td>1.0</td>\n",
              "    </tr>\n",
              "    <tr>\n",
              "      <th>3</th>\n",
              "      <td>AE</td>\n",
              "      <td>United Arab Emirates</td>\n",
              "      <td>NaN</td>\n",
              "      <td>NaN</td>\n",
              "      <td>NaN</td>\n",
              "      <td>NaN</td>\n",
              "      <td>2020-02-18</td>\n",
              "      <td>-2.0</td>\n",
              "      <td>1.0</td>\n",
              "      <td>5.0</td>\n",
              "      <td>0.0</td>\n",
              "      <td>2.0</td>\n",
              "      <td>1.0</td>\n",
              "    </tr>\n",
              "    <tr>\n",
              "      <th>4</th>\n",
              "      <td>AE</td>\n",
              "      <td>United Arab Emirates</td>\n",
              "      <td>NaN</td>\n",
              "      <td>NaN</td>\n",
              "      <td>NaN</td>\n",
              "      <td>NaN</td>\n",
              "      <td>2020-02-19</td>\n",
              "      <td>-2.0</td>\n",
              "      <td>0.0</td>\n",
              "      <td>4.0</td>\n",
              "      <td>-1.0</td>\n",
              "      <td>2.0</td>\n",
              "      <td>1.0</td>\n",
              "    </tr>\n",
              "  </tbody>\n",
              "</table>\n",
              "</div>"
            ],
            "text/plain": [
              "  country_region_code  ... residential_percent_change_from_baseline\n",
              "0                  AE  ...                                      1.0\n",
              "1                  AE  ...                                      1.0\n",
              "2                  AE  ...                                      1.0\n",
              "3                  AE  ...                                      1.0\n",
              "4                  AE  ...                                      1.0\n",
              "\n",
              "[5 rows x 13 columns]"
            ]
          },
          "metadata": {
            "tags": []
          },
          "execution_count": 70
        }
      ]
    },
    {
      "cell_type": "markdown",
      "metadata": {
        "id": "dsBMAiicI8zC",
        "colab_type": "text"
      },
      "source": [
        "Basic data manipulations\n",
        "------------------------"
      ]
    },
    {
      "cell_type": "markdown",
      "metadata": {
        "id": "li8HA9WTI8zD",
        "colab_type": "text"
      },
      "source": [
        "The data includes a date field, but it may have been read in as a\n",
        "string, rather than as a `datetime`. If that’s the case, use\n",
        "`to_datetime()` to convert the field into a datetime format. (You can\n",
        "follow the example in the “Exploratory data analysis” notebook from this\n",
        "week’s lesson.)\n",
        "\n",
        "Then, use `info()` again to make sure your change was applied. Note the\n",
        "difference in the output, relative to the cell above."
      ]
    },
    {
      "cell_type": "code",
      "metadata": {
        "id": "kTe609P-I8zE",
        "colab_type": "code",
        "colab": {
          "base_uri": "https://localhost:8080/",
          "height": 357
        },
        "outputId": "a5b01204-bf4b-4fde-c662-29d8ee872c6c"
      },
      "source": [
        "# TODO Q4\n",
        "# df['date'] = ...\n",
        "df['date'] = pd.to_datetime(df['date'])\n",
        "df.info()"
      ],
      "execution_count": 71,
      "outputs": [
        {
          "output_type": "stream",
          "text": [
            "<class 'pandas.core.frame.DataFrame'>\n",
            "RangeIndex: 540126 entries, 0 to 540125\n",
            "Data columns (total 13 columns):\n",
            " #   Column                                              Non-Null Count   Dtype         \n",
            "---  ------                                              --------------   -----         \n",
            " 0   country_region_code                                 539194 non-null  object        \n",
            " 1   country_region                                      540126 non-null  object        \n",
            " 2   sub_region_1                                        524061 non-null  object        \n",
            " 3   sub_region_2                                        312427 non-null  object        \n",
            " 4   iso_3166_2_code                                     195608 non-null  object        \n",
            " 5   census_fips_code                                    312546 non-null  float64       \n",
            " 6   date                                                540126 non-null  datetime64[ns]\n",
            " 7   retail_and_recreation_percent_change_from_baseline  416716 non-null  float64       \n",
            " 8   grocery_and_pharmacy_percent_change_from_baseline   400447 non-null  float64       \n",
            " 9   parks_percent_change_from_baseline                  248195 non-null  float64       \n",
            " 10  transit_stations_percent_change_from_baseline       287509 non-null  float64       \n",
            " 11  workplaces_percent_change_from_baseline             526546 non-null  float64       \n",
            " 12  residential_percent_change_from_baseline            298340 non-null  float64       \n",
            "dtypes: datetime64[ns](1), float64(7), object(5)\n",
            "memory usage: 53.6+ MB\n"
          ],
          "name": "stdout"
        }
      ]
    },
    {
      "cell_type": "markdown",
      "metadata": {
        "id": "_9uMkoDqI8zJ",
        "colab_type": "text"
      },
      "source": [
        "Next, you are going to extract the subset of data for the location of\n",
        "your choice. You can choose any location *except* Brooklyn, New York.\n",
        "(You can’t choose Brooklyn because the example code I’m about to show\n",
        "you is for Brooklyn.)\n",
        "\n",
        "The data is reported for different regions, with different levels of\n",
        "granularity available. This is best explained by example:\n",
        "\n",
        "Suppose I want the overall trend from the entire U.S. I would use the\n",
        "subset of data where `country_region` is equal to “United States” and\n",
        "`sub_region_1` is null:\n",
        "\n",
        "    df_subset = df[(df['country_region'].eq(\"United States\")) & (df['sub_region_1'].isnull())]\n",
        "\n",
        "Suppose I want the overall trend from the entire state of New York: I\n",
        "would use the subset of data where `country_region` is equal to “United\n",
        "States”, `sub_region_1` is equal to “New York”, and `sub_region_2` is\n",
        "null:\n",
        "\n",
        "    df_subset = df[(df['country_region'].eq(\"United States\")) & (df['sub_region_1'].eq(\"New York\")) & (df['sub_region_2'].isnull())]\n",
        "\n",
        "Suppose I want the overall trend from Brooklyn, New York (Kings County):\n",
        "I would use the subset of data where `country_region` is equal to\n",
        "“United States”, `sub_region_1` is equal to “New York”, and\n",
        "`sub_region_2` is equal to “Kings County”:\n",
        "\n",
        "    df_subset = df[(df['country_region'].eq(\"United States\")) & (df['sub_region_1'].eq(\"New York\")) & (df['sub_region_2'].eq(\"Kings County\"))]\n",
        "\n",
        "In the following cell(s), fill in the code to create a data frame\n",
        "`df_subset` with data from a single location. You can go down to the\n",
        "`sub_region_1` level or the `sub_region_2` level - depending on the\n",
        "location you chose, the finer level of granularity may not be available."
      ]
    },
    {
      "cell_type": "code",
      "metadata": {
        "id": "Ggvvrh2lI8zK",
        "colab_type": "code",
        "colab": {
          "base_uri": "https://localhost:8080/",
          "height": 357
        },
        "outputId": "5cf43345-1ea4-4d8e-fcb7-66437dcb6edc"
      },
      "source": [
        "# TODO Q5\n",
        "# df_subset =\n",
        "df_subset = df[(df['country_region'].eq(\"Canada\")) & (df['sub_region_1'].eq(\"Ontario\")) & (df['sub_region_2'].isnull())]\n",
        "df_subset.info()"
      ],
      "execution_count": 72,
      "outputs": [
        {
          "output_type": "stream",
          "text": [
            "<class 'pandas.core.frame.DataFrame'>\n",
            "Int64Index: 119 entries, 20864 to 20982\n",
            "Data columns (total 13 columns):\n",
            " #   Column                                              Non-Null Count  Dtype         \n",
            "---  ------                                              --------------  -----         \n",
            " 0   country_region_code                                 119 non-null    object        \n",
            " 1   country_region                                      119 non-null    object        \n",
            " 2   sub_region_1                                        119 non-null    object        \n",
            " 3   sub_region_2                                        0 non-null      object        \n",
            " 4   iso_3166_2_code                                     119 non-null    object        \n",
            " 5   census_fips_code                                    0 non-null      float64       \n",
            " 6   date                                                119 non-null    datetime64[ns]\n",
            " 7   retail_and_recreation_percent_change_from_baseline  119 non-null    float64       \n",
            " 8   grocery_and_pharmacy_percent_change_from_baseline   119 non-null    float64       \n",
            " 9   parks_percent_change_from_baseline                  119 non-null    float64       \n",
            " 10  transit_stations_percent_change_from_baseline       119 non-null    float64       \n",
            " 11  workplaces_percent_change_from_baseline             119 non-null    float64       \n",
            " 12  residential_percent_change_from_baseline            119 non-null    float64       \n",
            "dtypes: datetime64[ns](1), float64(7), object(5)\n",
            "memory usage: 13.0+ KB\n"
          ],
          "name": "stdout"
        }
      ]
    },
    {
      "cell_type": "markdown",
      "metadata": {
        "id": "qO8eh2nfI8zQ",
        "colab_type": "text"
      },
      "source": [
        "Is the data complete, or is some data not available for the location you\n",
        "have chosen? In the following cell, write code to check for missing data\n",
        "in the `...percent_change_from_baseline` fields."
      ]
    },
    {
      "cell_type": "code",
      "metadata": {
        "id": "UZmyauewI8zR",
        "colab_type": "code",
        "colab": {
          "base_uri": "https://localhost:8080/",
          "height": 119
        },
        "outputId": "99548a9a-41b5-4c53-b3bd-4472e74cbd1f"
      },
      "source": [
        "# TODO Q6\n",
        "# df_subset\n",
        "for i in range(7,13):\n",
        "  print(df_subset.iloc[:,i].isnull().values.any()) # looping through the column with the ...percent_change_from_baseline \n",
        "  #and looking for missing data points"
      ],
      "execution_count": 73,
      "outputs": [
        {
          "output_type": "stream",
          "text": [
            "False\n",
            "False\n",
            "False\n",
            "False\n",
            "False\n",
            "False\n"
          ],
          "name": "stdout"
        }
      ]
    },
    {
      "cell_type": "markdown",
      "metadata": {
        "id": "4SlOCv3ZI8zV",
        "colab_type": "text"
      },
      "source": [
        "**TODO** Q7: Edit this cell to answer the following question: Is the\n",
        "data complete, or is some relevant data missing? Why would some\n",
        "locations only have partial data available (missing some\n",
        "`...percent_change_from_baseline` fields for some dates)? **Include a\n",
        "short quote from the material you read in the “Learn about the data”\n",
        "section to answer this question.**\n",
        "\n",
        "Answer: In my subset of dataframe i.e Ontario, it is evident that data points are not missing from the fields like ... percent_change_from_baseline. But while you look at states like Indiana and New York as a whole there are data points which show gap in the data, so as to maintain the differntial privacy of the user's identity. As the data collected by a particular user did not meet the threshold of maintaining a user's anonomity.These missing data points are relevant if we consider analysis for a day to day basis or only for a particular day, but since the data is collected over a period of 5 days in a week,missing few data points wont pose a great loss to the data accuracy for that particular week."
      ]
    },
    {
      "cell_type": "markdown",
      "metadata": {
        "id": "YHlog0RwI8zW",
        "colab_type": "text"
      },
      "source": [
        "For this data, the `date` field is important, but we don’t necessarily\n",
        "care about the absolute date. Instead, we care about how many days have\n",
        "elapsed since the first confirmed case of COVID-19 in this location, how\n",
        "many days have elapsed since a “stay at home” order or similar rule was\n",
        "established in this location (if there was one) and how many days have\n",
        "elapsed since it was lifted (if applicable).\n",
        "\n",
        "For example, in Brooklyn, New York, I might compute:\n",
        "\n",
        "    days_since_lockdown = (df_subset['date'] - pd.to_datetime('2020-03-20 00:00:00')).dt.days.values\n",
        "    # NYC lockdown March 20, 2020 https://www.nytimes.com/2020/03/20/us/coronavirus-today.html\n",
        "\n",
        "Compute “days since \\[some relevant COVID-19 date\\]” for your location.\n",
        "In a comment, explain the significance of the date you have chosen, and\n",
        "include a link to a news article or other reference supporting the\n",
        "significance of the date. (The news article does not have to be in\n",
        "English.)"
      ]
    },
    {
      "cell_type": "code",
      "metadata": {
        "id": "43fgpb6VI8zX",
        "colab_type": "code",
        "colab": {
          "base_uri": "https://localhost:8080/",
          "height": 136
        },
        "outputId": "42ee839b-c875-47ae-da8f-c5ececed4453"
      },
      "source": [
        "# TODO Q8\n",
        "# days_since...\n",
        "days_since_reopen = (df_subset['date'] - pd.to_datetime('2020-05-19 00:00:00')).dt.days.values\n",
        "print(days_since_reopen)\n",
        "# Ontario reopen phase1 , May 19 2020 https://www.ontario.ca/page/reopening-ontario-whats-each-stage#section-1\n",
        "# for further reference , facilities that open include retail, construction , indoor sports etc.\n"
      ],
      "execution_count": 74,
      "outputs": [
        {
          "output_type": "stream",
          "text": [
            "[-94 -93 -92 -91 -90 -89 -88 -87 -86 -85 -84 -83 -82 -81 -80 -79 -78 -77\n",
            " -76 -75 -74 -73 -72 -71 -70 -69 -68 -67 -66 -65 -64 -63 -62 -61 -60 -59\n",
            " -58 -57 -56 -55 -54 -53 -52 -51 -50 -49 -48 -47 -46 -45 -44 -43 -42 -41\n",
            " -40 -39 -38 -37 -36 -35 -34 -33 -32 -31 -30 -29 -28 -27 -26 -25 -24 -23\n",
            " -22 -21 -20 -19 -18 -17 -16 -15 -14 -13 -12 -11 -10  -9  -8  -7  -6  -5\n",
            "  -4  -3  -2  -1   0   1   2   3   4   5   6   7   8   9  10  11  12  13\n",
            "  14  15  16  17  18  19  20  21  22  23  24]\n"
          ],
          "name": "stdout"
        }
      ]
    },
    {
      "cell_type": "markdown",
      "metadata": {
        "id": "HI6gwx1uI8zd",
        "colab_type": "text"
      },
      "source": [
        "Visualize data\n",
        "--------------\n",
        "\n",
        "Finally, we are going to visualize the changes in human mobility over\n",
        "this time, for the location you have chosen.\n",
        "\n",
        "In the following cell, create a figure with six subplots, arranged\n",
        "vertically. (You can refer to the example in the “Python + numpy”\n",
        "notebook from this week’s lesson.) On the horizontal axis, put the\n",
        "`days_since...` array you computed in the previous cell. On the vertical\n",
        "axes, show:\n",
        "\n",
        "-   `retail_and_recreation_percent_change_from_baseline` in the top\n",
        "    subplot\n",
        "-   `grocery_and_pharmacy_percent_change_from_baseline` in the next\n",
        "    subplot\n",
        "-   `parks_percent_change_from_baseline` in the next subplot\n",
        "-   `transit_stations_percent_change_from_baseline` in the next subplot\n",
        "-   `workplaces_percent_change_from_baseline` in the next subplot\n",
        "-   `residential_percent_change_from_baseline` in the bottom subplot"
      ]
    },
    {
      "cell_type": "code",
      "metadata": {
        "id": "LqQ90Sq3I8ze",
        "colab_type": "code",
        "colab": {
          "base_uri": "https://localhost:8080/",
          "height": 282
        },
        "outputId": "013ff850-a9fe-454a-c2d1-19b5cfdafcb3"
      },
      "source": [
        "# TODO Q9\n",
        "import matplotlib.pyplot as plt\n",
        "%matplotlib inline\n",
        "fig, axs = plt.subplots(6)\n",
        "axs[0].plot(days_since_reopen,df_subset.retail_and_recreation_percent_change_from_baseline)\n",
        "axs[1].plot(days_since_reopen,df_subset.grocery_and_pharmacy_percent_change_from_baseline)\n",
        "axs[2].plot(days_since_reopen,df_subset.parks_percent_change_from_baseline)\n",
        "axs[3].plot(days_since_reopen,df_subset.transit_stations_percent_change_from_baseline)\n",
        "axs[4].plot(days_since_reopen,df_subset.workplaces_percent_change_from_baseline)\n",
        "axs[5].plot(days_since_reopen,df_subset.residential_percent_change_from_baseline)\n"
      ],
      "execution_count": 75,
      "outputs": [
        {
          "output_type": "execute_result",
          "data": {
            "text/plain": [
              "[<matplotlib.lines.Line2D at 0x7f2db6730320>]"
            ]
          },
          "metadata": {
            "tags": []
          },
          "execution_count": 75
        },
        {
          "output_type": "display_data",
          "data": {
            "image/png": "[encoded data removed]",
            "text/plain": [
              "<Figure size 432x288 with 6 Axes>"
            ]
          },
          "metadata": {
            "tags": [],
            "needs_background": "light"
          }
        }
      ]
    },
    {
      "cell_type": "markdown",
      "metadata": {
        "id": "zkSQOjC-I8zj",
        "colab_type": "text"
      },
      "source": [
        "**TODO** Q10: Answer the following question: Do the results seem to\n",
        "satisfy “common sense”? Explain, citing specific data from your plot to\n",
        "support your answer.\n",
        "Answer: The results here seems to be satisfy common sense,as it is quite reasonable to say that there will be upsurge of people visiting the parks, workplaces ,transit stations, retail and grocery stores after reopening and this claim is supported by the results in the graph above and a downward trend is observed for the resedential changes.The peaks in the graph resemble a holiday for places like the parks and other activities other than the workplace change which observes a sharp decrease.\n",
        "\n",
        "**TODO** Q11: In the [Calibrate\n",
        "Region](https://support.google.com/covid19-mobility/checklist/9834261?hl=en&ref_topic=9822927)\n",
        "checklist, Google suggests a number of reasons why the data might *not*\n",
        "be useful for understanding the effect of COVID-19-related lockdowns, or\n",
        "why the data might be misleading. For the location you have chosen,\n",
        "briefly answer all of the questions in that checklist. Based on your\n",
        "answers, do you think there are any serious problems associated with\n",
        "using this data for understanding user mobility changes due to COVID-19?\n",
        "\n",
        "Answer:\n",
        "\n",
        "The data for mobility changes due to COVID-19 is helpful to measure the change in the mobility for certain fields. When it comes to defining the mobility of the people repective to their jobs like student the data seems to be lacking in some aspects and also when we compare the data of the visits to National parks and recreational centre there is no clear parameter that helps us to differentiate whether the number of visits to the National Park is more or the public gardens. Also no clear differentiation can be made for people who work in hospitals and grocery stores as they probably have the same amount of time they spend in the residential area. So for better analysis and sectorization a more clear and categorized data might help our cause to measure the true Mobility changes caused in different sectors due to COVID-19. "
      ]
    }
  ]
}